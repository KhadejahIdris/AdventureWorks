{
 "cells": [
  {
   "cell_type": "markdown",
   "id": "85665a0b",
   "metadata": {},
   "source": [
    "\n",
    "### ADVENTURE WORKS CASE STUDY\n",
    "\n",
    "The Adventure Works faces challenges in maximizing its sales potential due to insufficient understanding of intricate sales patterns, nuanced customer behavior, and diverse product perfomance. This project seeks to conduct a comprehensive analysis of sales data, customer demographics, and product details to uncover complex relationships and provide sophisticated insights.\n",
    "\n",
    "### Dataset Information:\n",
    "\n",
    "- **AdventureWorks.db:** This database contains information on sales made at Adventure Works.It consists of several tables containing data about customers, returns, products, sales and location\n",
    "\n",
    "\n",
    "\n",
    "### Immediate Objective:\n",
    "\n",
    "`To clean sql data with python in jupyter notebook \n",
    "\n",
    "\n",
    "\n",
    "\n",
    "#### Domain \n",
    "`Business, Sales and Marketing`\n",
    "\n",
    "### Tasks Carried Out Below    \n",
    "*Imported required libraries   \n",
    "*Created connection to database file  \n",
    "*Queried the data into Pandas dataframe  \n",
    "*Queried the data into dataframe; Alternative method  \n",
    "*Created an object cursor for easy execution of sql queries   \n",
    "*Identified and Quick view of tables to determine preprocessing required   \n",
    "*Identified missing data   \n",
    "*Adjusted data types to ensure compatibility   \n",
    "*Eradicated redundancy by removing duplicate data   \n",
    "*Did a quick evaluation of data   \n"
   ]
  },
  {
   "cell_type": "markdown",
   "id": "71295f56",
   "metadata": {},
   "source": [
    "# Setting up SQLite Database Connection With Python"
   ]
  },
  {
   "cell_type": "code",
   "execution_count": 113,
   "id": "49e33277",
   "metadata": {},
   "outputs": [],
   "source": [
    "#IMPORT LIBRARIES\n",
    "import pandas as pd\n",
    "import numpy as np\n",
    "import sqlite3 as sql"
   ]
  },
  {
   "cell_type": "code",
   "execution_count": 2,
   "id": "c57dadb4",
   "metadata": {},
   "outputs": [],
   "source": [
    "#Create connection to database file\n",
    "database=\"Adventure_Works.db\"\n",
    "connection= sql.connect(database)"
   ]
  },
  {
   "cell_type": "code",
   "execution_count": 3,
   "id": "96347fe8",
   "metadata": {},
   "outputs": [
    {
     "data": {
      "text/html": [
       "<div>\n",
       "<style scoped>\n",
       "    .dataframe tbody tr th:only-of-type {\n",
       "        vertical-align: middle;\n",
       "    }\n",
       "\n",
       "    .dataframe tbody tr th {\n",
       "        vertical-align: top;\n",
       "    }\n",
       "\n",
       "    .dataframe thead th {\n",
       "        text-align: right;\n",
       "    }\n",
       "</style>\n",
       "<table border=\"1\" class=\"dataframe\">\n",
       "  <thead>\n",
       "    <tr style=\"text-align: right;\">\n",
       "      <th></th>\n",
       "      <th>Sales ID</th>\n",
       "      <th>OrderDate</th>\n",
       "      <th>StockDate</th>\n",
       "      <th>OrderNumber</th>\n",
       "      <th>ProductKey</th>\n",
       "      <th>CustomerKey</th>\n",
       "      <th>TerritoryKey</th>\n",
       "      <th>OrderLineItem</th>\n",
       "      <th>OrderQuantity</th>\n",
       "    </tr>\n",
       "  </thead>\n",
       "  <tbody>\n",
       "    <tr>\n",
       "      <th>0</th>\n",
       "      <td>1</td>\n",
       "      <td>1/1/2015</td>\n",
       "      <td>9/21/2001</td>\n",
       "      <td>SO45080</td>\n",
       "      <td>332</td>\n",
       "      <td>14657</td>\n",
       "      <td>1</td>\n",
       "      <td>1</td>\n",
       "      <td>1</td>\n",
       "    </tr>\n",
       "    <tr>\n",
       "      <th>1</th>\n",
       "      <td>2</td>\n",
       "      <td>1/1/2015</td>\n",
       "      <td>12/5/2001</td>\n",
       "      <td>SO45079</td>\n",
       "      <td>312</td>\n",
       "      <td>29255</td>\n",
       "      <td>4</td>\n",
       "      <td>1</td>\n",
       "      <td>1</td>\n",
       "    </tr>\n",
       "    <tr>\n",
       "      <th>2</th>\n",
       "      <td>3</td>\n",
       "      <td>1/1/2015</td>\n",
       "      <td>10/29/2001</td>\n",
       "      <td>SO45082</td>\n",
       "      <td>350</td>\n",
       "      <td>11455</td>\n",
       "      <td>9</td>\n",
       "      <td>1</td>\n",
       "      <td>1</td>\n",
       "    </tr>\n",
       "    <tr>\n",
       "      <th>3</th>\n",
       "      <td>4</td>\n",
       "      <td>1/1/2015</td>\n",
       "      <td>11/16/2001</td>\n",
       "      <td>SO45081</td>\n",
       "      <td>338</td>\n",
       "      <td>26782</td>\n",
       "      <td>6</td>\n",
       "      <td>1</td>\n",
       "      <td>1</td>\n",
       "    </tr>\n",
       "    <tr>\n",
       "      <th>4</th>\n",
       "      <td>5</td>\n",
       "      <td>1/2/2015</td>\n",
       "      <td>12/15/2001</td>\n",
       "      <td>SO45083</td>\n",
       "      <td>312</td>\n",
       "      <td>14947</td>\n",
       "      <td>10</td>\n",
       "      <td>1</td>\n",
       "      <td>1</td>\n",
       "    </tr>\n",
       "  </tbody>\n",
       "</table>\n",
       "</div>"
      ],
      "text/plain": [
       "   Sales ID OrderDate   StockDate OrderNumber  ProductKey  CustomerKey  \\\n",
       "0         1  1/1/2015   9/21/2001     SO45080         332        14657   \n",
       "1         2  1/1/2015   12/5/2001     SO45079         312        29255   \n",
       "2         3  1/1/2015  10/29/2001     SO45082         350        11455   \n",
       "3         4  1/1/2015  11/16/2001     SO45081         338        26782   \n",
       "4         5  1/2/2015  12/15/2001     SO45083         312        14947   \n",
       "\n",
       "   TerritoryKey  OrderLineItem  OrderQuantity  \n",
       "0             1              1              1  \n",
       "1             4              1              1  \n",
       "2             9              1              1  \n",
       "3             6              1              1  \n",
       "4            10              1              1  "
      ]
     },
     "execution_count": 3,
     "metadata": {},
     "output_type": "execute_result"
    }
   ],
   "source": [
    "# Query the data into Pandas dataframe: Method1\n",
    "query=\"SELECT* FROM AdventureWorks_Sales\"\n",
    "df= pd.read_sql_query(query,connection)\n",
    "df.head()"
   ]
  },
  {
   "cell_type": "markdown",
   "id": "07a6cdf7",
   "metadata": {},
   "source": []
  },
  {
   "cell_type": "code",
   "execution_count": 5,
   "id": "3f489849",
   "metadata": {},
   "outputs": [
    {
     "name": "stdout",
     "output_type": "stream",
     "text": [
      "Requirement already satisfied: ipython-sql in c:\\users\\user\\anaconda3\\lib\\site-packages (0.5.0)\n",
      "Requirement already satisfied: ipython in c:\\users\\user\\anaconda3\\lib\\site-packages (from ipython-sql) (7.22.0)\n",
      "Requirement already satisfied: ipython-genutils in c:\\users\\user\\anaconda3\\lib\\site-packages (from ipython-sql) (0.2.0)\n",
      "Requirement already satisfied: prettytable in c:\\users\\user\\anaconda3\\lib\\site-packages (from ipython-sql) (3.11.0)\n",
      "Requirement already satisfied: sqlparse in c:\\users\\user\\anaconda3\\lib\\site-packages (from ipython-sql) (0.5.1)\n",
      "Requirement already satisfied: six in c:\\users\\user\\anaconda3\\lib\\site-packages (from ipython-sql) (1.15.0)\n",
      "Requirement already satisfied: sqlalchemy>=2.0 in c:\\users\\user\\anaconda3\\lib\\site-packages (from ipython-sql) (2.0.35)\n",
      "Requirement already satisfied: typing-extensions>=4.6.0 in c:\\users\\user\\anaconda3\\lib\\site-packages (from sqlalchemy>=2.0->ipython-sql) (4.12.2)\n",
      "Requirement already satisfied: greenlet!=0.4.17 in c:\\users\\user\\anaconda3\\lib\\site-packages (from sqlalchemy>=2.0->ipython-sql) (1.0.0)\n",
      "Requirement already satisfied: pickleshare in c:\\users\\user\\anaconda3\\lib\\site-packages (from ipython->ipython-sql) (0.7.5)\n",
      "Requirement already satisfied: jedi>=0.16 in c:\\users\\user\\anaconda3\\lib\\site-packages (from ipython->ipython-sql) (0.17.2)\n",
      "Requirement already satisfied: prompt-toolkit!=3.0.0,!=3.0.1,<3.1.0,>=2.0.0 in c:\\users\\user\\anaconda3\\lib\\site-packages (from ipython->ipython-sql) (3.0.17)\n",
      "Requirement already satisfied: decorator in c:\\users\\user\\anaconda3\\lib\\site-packages (from ipython->ipython-sql) (5.0.6)\n",
      "Requirement already satisfied: colorama in c:\\users\\user\\anaconda3\\lib\\site-packages (from ipython->ipython-sql) (0.4.4)\n",
      "Requirement already satisfied: traitlets>=4.2 in c:\\users\\user\\anaconda3\\lib\\site-packages (from ipython->ipython-sql) (5.0.5)\n",
      "Requirement already satisfied: pygments in c:\\users\\user\\anaconda3\\lib\\site-packages (from ipython->ipython-sql) (2.8.1)\n",
      "Requirement already satisfied: backcall in c:\\users\\user\\anaconda3\\lib\\site-packages (from ipython->ipython-sql) (0.2.0)\n",
      "Requirement already satisfied: setuptools>=18.5 in c:\\users\\user\\anaconda3\\lib\\site-packages (from ipython->ipython-sql) (52.0.0.post20210125)\n",
      "Requirement already satisfied: parso<0.8.0,>=0.7.0 in c:\\users\\user\\anaconda3\\lib\\site-packages (from jedi>=0.16->ipython->ipython-sql) (0.7.0)\n",
      "Requirement already satisfied: wcwidth in c:\\users\\user\\anaconda3\\lib\\site-packages (from prompt-toolkit!=3.0.0,!=3.0.1,<3.1.0,>=2.0.0->ipython->ipython-sql) (0.2.5)\n"
     ]
    }
   ],
   "source": [
    "#Query the data into dataframe: Method2\n",
    "#Alternatively, we can query data by installing ipython-sql library\n",
    "!pip3 install ipython-sql"
   ]
  },
  {
   "cell_type": "code",
   "execution_count": 25,
   "id": "c1aec426",
   "metadata": {},
   "outputs": [],
   "source": [
    "%reload_ext sql\n",
    "%sql sqlite:///Adventure_Works.db"
   ]
  },
  {
   "cell_type": "code",
   "execution_count": 26,
   "id": "997c6ba1",
   "metadata": {},
   "outputs": [
    {
     "name": "stdout",
     "output_type": "stream",
     "text": [
      " * sqlite:///Adventure_Works.db\n",
      "Done.\n"
     ]
    },
    {
     "data": {
      "text/html": [
       "<table>\n",
       "    <thead>\n",
       "        <tr>\n",
       "            <th>Sales ID</th>\n",
       "            <th>OrderDate</th>\n",
       "            <th>StockDate</th>\n",
       "            <th>OrderNumber</th>\n",
       "            <th>ProductKey</th>\n",
       "            <th>CustomerKey</th>\n",
       "            <th>TerritoryKey</th>\n",
       "            <th>OrderLineItem</th>\n",
       "            <th>OrderQuantity</th>\n",
       "        </tr>\n",
       "    </thead>\n",
       "    <tbody>\n",
       "        <tr>\n",
       "            <td>1</td>\n",
       "            <td>1/1/2015</td>\n",
       "            <td>9/21/2001</td>\n",
       "            <td>SO45080</td>\n",
       "            <td>332</td>\n",
       "            <td>14657</td>\n",
       "            <td>1</td>\n",
       "            <td>1</td>\n",
       "            <td>1</td>\n",
       "        </tr>\n",
       "    </tbody>\n",
       "</table>"
      ],
      "text/plain": [
       "[(1, '1/1/2015', '9/21/2001', 'SO45080', 332, 14657, 1, 1, 1)]"
      ]
     },
     "execution_count": 26,
     "metadata": {},
     "output_type": "execute_result"
    }
   ],
   "source": [
    "%%sql\n",
    "SELECT*\n",
    "FROM AdventureWorks_Sales WHERE OrderNumber=\"SO45080\";"
   ]
  },
  {
   "cell_type": "code",
   "execution_count": 32,
   "id": "934a3c3a",
   "metadata": {},
   "outputs": [
    {
     "name": "stdout",
     "output_type": "stream",
     "text": [
      " * sqlite:///Adventure_Works.db\n",
      "(sqlite3.OperationalError) no such table: sys.tables\n",
      "[SQL: SELECT name\n",
      "FROM sys.tables]\n",
      "(Background on this error at: https://sqlalche.me/e/20/e3q8)\n"
     ]
    }
   ],
   "source": [
    "%%sql\n",
    "SELECT name\n",
    "FROM sys.tables "
   ]
  },
  {
   "cell_type": "code",
   "execution_count": 19,
   "id": "ed905818",
   "metadata": {},
   "outputs": [],
   "source": [
    "#Using an object cursor to execute sql queries\n",
    "cursor = connection.cursor()"
   ]
  },
  {
   "cell_type": "code",
   "execution_count": 21,
   "id": "131f87e5",
   "metadata": {},
   "outputs": [
    {
     "name": "stdout",
     "output_type": "stream",
     "text": [
      "[(1, 'Bikes'), (2, 'Components'), (3, 'Clothing'), (4, 'Accessories')]\n"
     ]
    }
   ],
   "source": [
    "#testing cursor\n",
    "rows= cursor.execute(\"SELECT* FROM AdventureWorks_Product_Categories\").fetchall()\n",
    "print(rows)"
   ]
  },
  {
   "cell_type": "code",
   "execution_count": 22,
   "id": "80323dfc",
   "metadata": {},
   "outputs": [
    {
     "name": "stdout",
     "output_type": "stream",
     "text": [
      "[(1, '1/1/2015', '9/21/2001', 'SO45080', 332, 14657, 1, 1, 1)]\n"
     ]
    }
   ],
   "source": [
    "rows = cursor.execute(\"SELECT* FROM AdventureWorks_Sales WHERE OrderNumber= 'SO45080'\").fetchall()\n",
    "print(rows)"
   ]
  },
  {
   "cell_type": "code",
   "execution_count": 41,
   "id": "ef7d8436",
   "metadata": {},
   "outputs": [
    {
     "name": "stdout",
     "output_type": "stream",
     "text": [
      "[('AdventureWorks_Sales_2015',), ('AdventureWorks_Sales_2016',), ('AdventureWorks_Sales_2017',), ('AdventureWorks_Customers',), ('AdventureWorks_Calendar',), ('AdventureWorks_Territories',), ('AdventureWorks_Products',), ('AdventureWorks_Returns',), ('AdventureWorks_Product_Subcategories',), ('AdventureWorks_Product_Categories',), ('AdventureWorks_Sales',)]\n"
     ]
    }
   ],
   "source": [
    "#View all tables available in the database\n",
    "rows = cursor.execute(\"SELECT name FROM sqlite_master WHERE type='table';\").fetchall()\n",
    "print(rows)"
   ]
  },
  {
   "cell_type": "markdown",
   "id": "259274aa",
   "metadata": {},
   "source": [
    "# Data Preprocessing and Validation"
   ]
  },
  {
   "cell_type": "code",
   "execution_count": 30,
   "id": "a3c8c436",
   "metadata": {},
   "outputs": [
    {
     "name": "stdout",
     "output_type": "stream",
     "text": [
      "<class 'pandas.core.frame.DataFrame'>\n",
      "RangeIndex: 56046 entries, 0 to 56045\n",
      "Data columns (total 9 columns):\n",
      " #   Column         Non-Null Count  Dtype \n",
      "---  ------         --------------  ----- \n",
      " 0   Sales ID       56046 non-null  int64 \n",
      " 1   OrderDate      56046 non-null  object\n",
      " 2   StockDate      56046 non-null  object\n",
      " 3   OrderNumber    56046 non-null  object\n",
      " 4   ProductKey     56046 non-null  int64 \n",
      " 5   CustomerKey    56046 non-null  int64 \n",
      " 6   TerritoryKey   56046 non-null  int64 \n",
      " 7   OrderLineItem  56046 non-null  int64 \n",
      " 8   OrderQuantity  56046 non-null  int64 \n",
      "dtypes: int64(6), object(3)\n",
      "memory usage: 3.8+ MB\n"
     ]
    }
   ],
   "source": [
    "#Veryfying data types to ensure compatibility \n",
    "#Identifying Missing Data\n",
    "df.info()"
   ]
  },
  {
   "cell_type": "code",
   "execution_count": 42,
   "id": "68c1ba92",
   "metadata": {},
   "outputs": [],
   "source": [
    "df_Customers=pd.read_sql_query('SELECT*FROM AdventureWorks_Customers',connection)"
   ]
  },
  {
   "cell_type": "code",
   "execution_count": 43,
   "id": "283400ce",
   "metadata": {},
   "outputs": [
    {
     "name": "stdout",
     "output_type": "stream",
     "text": [
      "<class 'pandas.core.frame.DataFrame'>\n",
      "RangeIndex: 18148 entries, 0 to 18147\n",
      "Data columns (total 13 columns):\n",
      " #   Column          Non-Null Count  Dtype \n",
      "---  ------          --------------  ----- \n",
      " 0   CustomerKey     18148 non-null  int64 \n",
      " 1   Prefix          18018 non-null  object\n",
      " 2   FirstName       18148 non-null  object\n",
      " 3   LastName        18148 non-null  object\n",
      " 4   BirthDate       18148 non-null  object\n",
      " 5   MaritalStatus   18148 non-null  object\n",
      " 6   Gender          18148 non-null  object\n",
      " 7   EmailAddress    18148 non-null  object\n",
      " 8   AnnualIncome    18148 non-null  object\n",
      " 9   TotalChildren   18148 non-null  int64 \n",
      " 10  EducationLevel  18148 non-null  object\n",
      " 11  Occupation      18148 non-null  object\n",
      " 12  HomeOwner       18148 non-null  object\n",
      "dtypes: int64(2), object(11)\n",
      "memory usage: 1.8+ MB\n"
     ]
    }
   ],
   "source": [
    "df_Customers.info()"
   ]
  },
  {
   "cell_type": "code",
   "execution_count": 44,
   "id": "b0333974",
   "metadata": {},
   "outputs": [],
   "source": [
    "df_Products= pd.read_sql_query(\"SELECT*FROM Adventureworks_Products\", connection)"
   ]
  },
  {
   "cell_type": "code",
   "execution_count": 46,
   "id": "a0a49039",
   "metadata": {},
   "outputs": [
    {
     "name": "stdout",
     "output_type": "stream",
     "text": [
      "<class 'pandas.core.frame.DataFrame'>\n",
      "RangeIndex: 293 entries, 0 to 292\n",
      "Data columns (total 11 columns):\n",
      " #   Column                 Non-Null Count  Dtype  \n",
      "---  ------                 --------------  -----  \n",
      " 0   ProductKey             293 non-null    int64  \n",
      " 1   ProductSubcategoryKey  293 non-null    int64  \n",
      " 2   ProductSKU             293 non-null    object \n",
      " 3   ProductName            293 non-null    object \n",
      " 4   ModelName              293 non-null    object \n",
      " 5   ProductDescription     293 non-null    object \n",
      " 6   ProductColor           293 non-null    object \n",
      " 7   ProductSize            293 non-null    object \n",
      " 8   ProductStyle           293 non-null    object \n",
      " 9   ProductCost            293 non-null    float64\n",
      " 10  ProductPrice           293 non-null    float64\n",
      "dtypes: float64(2), int64(2), object(7)\n",
      "memory usage: 25.3+ KB\n"
     ]
    }
   ],
   "source": [
    "df_Products.info()"
   ]
  },
  {
   "cell_type": "code",
   "execution_count": 47,
   "id": "988dff17",
   "metadata": {},
   "outputs": [],
   "source": [
    "df_Returns = pd.read_sql_query('SELECT*FROM AdventureWorks_Returns',connection)"
   ]
  },
  {
   "cell_type": "code",
   "execution_count": 48,
   "id": "272f642e",
   "metadata": {},
   "outputs": [
    {
     "name": "stdout",
     "output_type": "stream",
     "text": [
      "<class 'pandas.core.frame.DataFrame'>\n",
      "RangeIndex: 1809 entries, 0 to 1808\n",
      "Data columns (total 4 columns):\n",
      " #   Column          Non-Null Count  Dtype \n",
      "---  ------          --------------  ----- \n",
      " 0   ReturnDate      1809 non-null   object\n",
      " 1   TerritoryKey    1809 non-null   int64 \n",
      " 2   ProductKey      1809 non-null   int64 \n",
      " 3   ReturnQuantity  1809 non-null   int64 \n",
      "dtypes: int64(3), object(1)\n",
      "memory usage: 56.7+ KB\n"
     ]
    }
   ],
   "source": [
    "df_Returns.info()"
   ]
  },
  {
   "cell_type": "code",
   "execution_count": 49,
   "id": "77a3c7bb",
   "metadata": {},
   "outputs": [],
   "source": [
    "df_Calendar = pd.read_sql_query('SELECT*FROM AdventureWorks_Calendar',connection)"
   ]
  },
  {
   "cell_type": "code",
   "execution_count": 50,
   "id": "59a77220",
   "metadata": {},
   "outputs": [
    {
     "name": "stdout",
     "output_type": "stream",
     "text": [
      "<class 'pandas.core.frame.DataFrame'>\n",
      "RangeIndex: 912 entries, 0 to 911\n",
      "Data columns (total 1 columns):\n",
      " #   Column  Non-Null Count  Dtype \n",
      "---  ------  --------------  ----- \n",
      " 0   Date    912 non-null    object\n",
      "dtypes: object(1)\n",
      "memory usage: 7.2+ KB\n"
     ]
    }
   ],
   "source": [
    "df_Calendar.info()"
   ]
  },
  {
   "cell_type": "code",
   "execution_count": 51,
   "id": "c6f62130",
   "metadata": {},
   "outputs": [],
   "source": [
    "df_Product_Categories = pd.read_sql_query('SELECT*FROM AdventureWorks_Product_Categories',connection)"
   ]
  },
  {
   "cell_type": "code",
   "execution_count": 52,
   "id": "93930227",
   "metadata": {},
   "outputs": [
    {
     "name": "stdout",
     "output_type": "stream",
     "text": [
      "<class 'pandas.core.frame.DataFrame'>\n",
      "RangeIndex: 4 entries, 0 to 3\n",
      "Data columns (total 2 columns):\n",
      " #   Column              Non-Null Count  Dtype \n",
      "---  ------              --------------  ----- \n",
      " 0   ProductCategoryKey  4 non-null      int64 \n",
      " 1   CategoryName        4 non-null      object\n",
      "dtypes: int64(1), object(1)\n",
      "memory usage: 192.0+ bytes\n"
     ]
    }
   ],
   "source": [
    "df_Product_Categories.info()"
   ]
  },
  {
   "cell_type": "code",
   "execution_count": 53,
   "id": "b06724c1",
   "metadata": {},
   "outputs": [],
   "source": [
    "df_ProductSubCategory = pd.read_sql_query('SELECT*FROM AdventureWorks_Product_Subcategories',connection)"
   ]
  },
  {
   "cell_type": "code",
   "execution_count": 54,
   "id": "634b512c",
   "metadata": {},
   "outputs": [
    {
     "name": "stdout",
     "output_type": "stream",
     "text": [
      "<class 'pandas.core.frame.DataFrame'>\n",
      "RangeIndex: 37 entries, 0 to 36\n",
      "Data columns (total 3 columns):\n",
      " #   Column                 Non-Null Count  Dtype \n",
      "---  ------                 --------------  ----- \n",
      " 0   ProductSubcategoryKey  37 non-null     int64 \n",
      " 1   SubcategoryName        37 non-null     object\n",
      " 2   ProductCategoryKey     37 non-null     int64 \n",
      "dtypes: int64(2), object(1)\n",
      "memory usage: 1016.0+ bytes\n"
     ]
    }
   ],
   "source": [
    "df_ProductSubCategory.info()"
   ]
  },
  {
   "cell_type": "code",
   "execution_count": 55,
   "id": "5dc3a889",
   "metadata": {},
   "outputs": [],
   "source": [
    "df_Territories = pd.read_sql_query(\"SELECT* FROM AdventureWorks_Territories\", connection)"
   ]
  },
  {
   "cell_type": "code",
   "execution_count": 56,
   "id": "13262cf5",
   "metadata": {},
   "outputs": [
    {
     "name": "stdout",
     "output_type": "stream",
     "text": [
      "<class 'pandas.core.frame.DataFrame'>\n",
      "RangeIndex: 10 entries, 0 to 9\n",
      "Data columns (total 4 columns):\n",
      " #   Column             Non-Null Count  Dtype \n",
      "---  ------             --------------  ----- \n",
      " 0   SalesTerritoryKey  10 non-null     int64 \n",
      " 1   Region             10 non-null     object\n",
      " 2   Country            10 non-null     object\n",
      " 3   Continent          10 non-null     object\n",
      "dtypes: int64(1), object(3)\n",
      "memory usage: 448.0+ bytes\n"
     ]
    }
   ],
   "source": [
    "df_Territories.info()"
   ]
  },
  {
   "cell_type": "markdown",
   "id": "9dc665b2",
   "metadata": {},
   "source": [
    "# Summary\n",
    "*The Prefix column of the AdventureWorks_Customers table has 130 null values;Most likely customers who didnt attach a prefix to their names                     \n",
    "*No other table had missing values                            \n",
    "*All date values where stored using the 'Object\" data type                    \n",
    "*All other data types where compatible "
   ]
  },
  {
   "cell_type": "code",
   "execution_count": 71,
   "id": "61d9cbaa",
   "metadata": {},
   "outputs": [
    {
     "name": "stdout",
     "output_type": "stream",
     "text": [
      "[]\n"
     ]
    }
   ],
   "source": [
    "#CHECKING FOR DUPLICATE ROWS IN INDEPENDENT TABLES\n",
    "rowz= cursor.execute(\"SELECT* FROM AdventureWorks_Products GROUP BY ProductKey HAVING COUNT(*) > 1\").fetchall()\n",
    "print(rowz)"
   ]
  },
  {
   "cell_type": "code",
   "execution_count": 81,
   "id": "a931be67",
   "metadata": {},
   "outputs": [
    {
     "name": "stdout",
     "output_type": "stream",
     "text": [
      "[]\n"
     ]
    }
   ],
   "source": [
    "rowz= cursor.execute(\"SELECT* FROM AdventureWorks_Product_Subcategories GROUP BY ProductSubcategoryKey HAVING COUNT(*) > 1\").fetchall()\n",
    "print(rowz)"
   ]
  },
  {
   "cell_type": "code",
   "execution_count": 72,
   "id": "1cd45349",
   "metadata": {},
   "outputs": [
    {
     "name": "stdout",
     "output_type": "stream",
     "text": [
      "[]\n"
     ]
    }
   ],
   "source": [
    "rowz = cursor.execute(\"SELECT* FROM AdventureWorks_Customers GROUP BY CustomerKey HAVING COUNT(*) > 1\").fetchall()\n",
    "print(rowz)"
   ]
  },
  {
   "cell_type": "code",
   "execution_count": 85,
   "id": "39f9c410",
   "metadata": {},
   "outputs": [
    {
     "name": "stdout",
     "output_type": "stream",
     "text": [
      "[]\n"
     ]
    }
   ],
   "source": [
    "rowz= cursor.execute(\"SELECT* FROM AdventureWorks_Product_Categories GROUP BY ProductCategoryKey HAVING COUNT(*) > 1\").fetchall()\n",
    "print(rowz)"
   ]
  },
  {
   "cell_type": "code",
   "execution_count": 83,
   "id": "d68d75db",
   "metadata": {},
   "outputs": [
    {
     "name": "stdout",
     "output_type": "stream",
     "text": [
      "[]\n"
     ]
    }
   ],
   "source": [
    "rowz= cursor.execute(\"SELECT* FROM AdventureWorks_Calendar GROUP BY Date HAVING COUNT(*) > 1\").fetchall()\n",
    "print(rowz)"
   ]
  },
  {
   "cell_type": "code",
   "execution_count": 87,
   "id": "8fd5883b",
   "metadata": {},
   "outputs": [
    {
     "name": "stdout",
     "output_type": "stream",
     "text": [
      "[]\n"
     ]
    }
   ],
   "source": [
    "rowz= cursor.execute(\"SELECT* FROM AdventureWorks_Territories GROUP BY SalesTerritoryKey HAVING COUNT(*) > 1\").fetchall()\n",
    "print(rowz)"
   ]
  },
  {
   "cell_type": "markdown",
   "id": "42f2ab8a",
   "metadata": {},
   "source": [
    "No duplicate data in the independent tables"
   ]
  },
  {
   "cell_type": "markdown",
   "id": "a27cf5a8",
   "metadata": {},
   "source": [
    "# Removing Redundancy"
   ]
  },
  {
   "cell_type": "code",
   "execution_count": 93,
   "id": "80a9c41e",
   "metadata": {},
   "outputs": [
    {
     "name": "stdout",
     "output_type": "stream",
     "text": [
      "2015,2016,2017 tables dropped\n"
     ]
    }
   ],
   "source": [
    "#Remove sales 2015, sales 2016 and sales 2017 that reflected in the db\n",
    "cursor.execute(\"DROP TABLE AdventureWorks_Sales_2016\")\n",
    "cursor.execute(\"DROP TABLE AdventureWorks_Sales_2017\")\n",
    "print (\"2015,2016,2017 tables dropped\")"
   ]
  },
  {
   "cell_type": "code",
   "execution_count": 96,
   "id": "3b78a29f",
   "metadata": {},
   "outputs": [
    {
     "name": "stdout",
     "output_type": "stream",
     "text": [
      "Prefix column deleted\n"
     ]
    }
   ],
   "source": [
    "#Delete prefix column from the AdventureWorks_Customers table\n",
    "cursor.execute(\"ALTER TABLE AdventureWorks_Customers DROP COLUMN Prefix\")\n",
    "print(\"Prefix column deleted\")"
   ]
  },
  {
   "cell_type": "markdown",
   "id": "23fa9b26",
   "metadata": {},
   "source": [
    "*We deleted the prefix column from the Customer table as it had 130 missing values and is generally not required for the analysis\n",
    "*We also deleted the sales 2015, sales 2016 and sales 2017 tables as they are a replica of the combined sales table"
   ]
  },
  {
   "cell_type": "markdown",
   "id": "e86704f4",
   "metadata": {},
   "source": [
    "# Fixing DateTime Values"
   ]
  },
  {
   "cell_type": "code",
   "execution_count": 112,
   "id": "757d9760",
   "metadata": {},
   "outputs": [],
   "source": [
    "#Changing the data type of the Date columns from object to DateTime format\n",
    "#AdventureWorks_Sales\n",
    "df['OrderDate'] = pd.to_datetime(df['OrderDate'],format = '%d/%m/%Y',  errors= 'coerce')\n",
    "df['StockDate'] = pd.to_datetime(df['StockDate'],format = '%d/%m/%Y', errors= 'coerce')\n",
    "\n",
    "#AdventureWorks_Customers\n",
    "df_Customers['BirthDate'] = pd.to_datetime(df_Customers['BirthDate'], format = '%d/%m/%Y', errors= 'coerce')\n",
    "\n",
    "#AdventureWorks_Calendar\n",
    "df_Calendar['Date'] = pd.to_datetime(df_Calendar['Date'],format = '%d/%m/%Y', errors= 'coerce')\n",
    "\n",
    "#AdventureWorks_Returns\n",
    "df_Returns['ReturnDate'] = pd.to_datetime(df_Returns['ReturnDate'],format = '%d/%m/%Y', errors= 'coerce')"
   ]
  },
  {
   "cell_type": "code",
   "execution_count": 115,
   "id": "6aad7061",
   "metadata": {},
   "outputs": [
    {
     "data": {
      "text/html": [
       "<div>\n",
       "<style scoped>\n",
       "    .dataframe tbody tr th:only-of-type {\n",
       "        vertical-align: middle;\n",
       "    }\n",
       "\n",
       "    .dataframe tbody tr th {\n",
       "        vertical-align: top;\n",
       "    }\n",
       "\n",
       "    .dataframe thead th {\n",
       "        text-align: right;\n",
       "    }\n",
       "</style>\n",
       "<table border=\"1\" class=\"dataframe\">\n",
       "  <thead>\n",
       "    <tr style=\"text-align: right;\">\n",
       "      <th></th>\n",
       "      <th>ProductKey</th>\n",
       "      <th>ProductSubcategoryKey</th>\n",
       "      <th>ProductCost</th>\n",
       "      <th>ProductPrice</th>\n",
       "    </tr>\n",
       "  </thead>\n",
       "  <tbody>\n",
       "    <tr>\n",
       "      <th>count</th>\n",
       "      <td>293.000000</td>\n",
       "      <td>293.000000</td>\n",
       "      <td>293.000000</td>\n",
       "      <td>293.000000</td>\n",
       "    </tr>\n",
       "    <tr>\n",
       "      <th>mean</th>\n",
       "      <td>441.552901</td>\n",
       "      <td>12.283276</td>\n",
       "      <td>413.661009</td>\n",
       "      <td>714.437357</td>\n",
       "    </tr>\n",
       "    <tr>\n",
       "      <th>std</th>\n",
       "      <td>108.064327</td>\n",
       "      <td>9.892831</td>\n",
       "      <td>517.611849</td>\n",
       "      <td>872.157258</td>\n",
       "    </tr>\n",
       "    <tr>\n",
       "      <th>min</th>\n",
       "      <td>214.000000</td>\n",
       "      <td>1.000000</td>\n",
       "      <td>0.856500</td>\n",
       "      <td>2.290000</td>\n",
       "    </tr>\n",
       "    <tr>\n",
       "      <th>25%</th>\n",
       "      <td>354.000000</td>\n",
       "      <td>2.000000</td>\n",
       "      <td>31.724400</td>\n",
       "      <td>63.500000</td>\n",
       "    </tr>\n",
       "    <tr>\n",
       "      <th>50%</th>\n",
       "      <td>457.000000</td>\n",
       "      <td>12.000000</td>\n",
       "      <td>199.375700</td>\n",
       "      <td>333.420000</td>\n",
       "    </tr>\n",
       "    <tr>\n",
       "      <th>75%</th>\n",
       "      <td>533.000000</td>\n",
       "      <td>17.000000</td>\n",
       "      <td>601.743700</td>\n",
       "      <td>1003.910000</td>\n",
       "    </tr>\n",
       "    <tr>\n",
       "      <th>max</th>\n",
       "      <td>606.000000</td>\n",
       "      <td>37.000000</td>\n",
       "      <td>2171.294200</td>\n",
       "      <td>3578.270000</td>\n",
       "    </tr>\n",
       "  </tbody>\n",
       "</table>\n",
       "</div>"
      ],
      "text/plain": [
       "       ProductKey  ProductSubcategoryKey  ProductCost  ProductPrice\n",
       "count  293.000000             293.000000   293.000000    293.000000\n",
       "mean   441.552901              12.283276   413.661009    714.437357\n",
       "std    108.064327               9.892831   517.611849    872.157258\n",
       "min    214.000000               1.000000     0.856500      2.290000\n",
       "25%    354.000000               2.000000    31.724400     63.500000\n",
       "50%    457.000000              12.000000   199.375700    333.420000\n",
       "75%    533.000000              17.000000   601.743700   1003.910000\n",
       "max    606.000000              37.000000  2171.294200   3578.270000"
      ]
     },
     "execution_count": 115,
     "metadata": {},
     "output_type": "execute_result"
    }
   ],
   "source": [
    "#Quick Evaluation of Product data\n",
    "df_Products.describe()"
   ]
  },
  {
   "cell_type": "code",
   "execution_count": 116,
   "id": "7a5d7a50",
   "metadata": {},
   "outputs": [],
   "source": [
    "connection.commit()"
   ]
  },
  {
   "cell_type": "code",
   "execution_count": 119,
   "id": "74fcfd58",
   "metadata": {},
   "outputs": [
    {
     "data": {
      "text/plain": [
       "'C:\\\\Users\\\\user\\\\Desktop\\\\3Signet Week1 Task'"
      ]
     },
     "execution_count": 119,
     "metadata": {},
     "output_type": "execute_result"
    }
   ],
   "source": [
    "pwd\n"
   ]
  },
  {
   "cell_type": "code",
   "execution_count": null,
   "id": "bffad65a",
   "metadata": {},
   "outputs": [],
   "source": []
  }
 ],
 "metadata": {
  "kernelspec": {
   "display_name": "Python 3",
   "language": "python",
   "name": "python3"
  },
  "language_info": {
   "codemirror_mode": {
    "name": "ipython",
    "version": 3
   },
   "file_extension": ".py",
   "mimetype": "text/x-python",
   "name": "python",
   "nbconvert_exporter": "python",
   "pygments_lexer": "ipython3",
   "version": "3.8.8"
  }
 },
 "nbformat": 4,
 "nbformat_minor": 5
}
